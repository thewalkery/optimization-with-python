{
 "cells": [
  {
   "cell_type": "code",
   "execution_count": 3,
   "id": "8a530a8b",
   "metadata": {},
   "outputs": [],
   "source": [
    "import pyomo.environ as pyo\n",
    "from pyomo.environ import *\n",
    "from pyomo.opt import SolverFactory\n",
    "\n",
    "model = pyo.ConcreteModel()"
   ]
  },
  {
   "cell_type": "code",
   "execution_count": 4,
   "id": "770c142e",
   "metadata": {},
   "outputs": [],
   "source": [
    "model.x = pyo.Var(bounds=(None, 3))\n",
    "model.y = pyo.Var(bounds=(0, None))"
   ]
  },
  {
   "cell_type": "code",
   "execution_count": 5,
   "id": "876f7fe8",
   "metadata": {},
   "outputs": [],
   "source": [
    "x, y = model.x, model.y"
   ]
  },
  {
   "cell_type": "code",
   "execution_count": 6,
   "id": "a022763f",
   "metadata": {},
   "outputs": [],
   "source": [
    "model.C1 = pyo.Constraint(expr= x+y<=8)"
   ]
  },
  {
   "cell_type": "code",
   "execution_count": 7,
   "id": "79039187",
   "metadata": {},
   "outputs": [],
   "source": [
    "model.C2 = pyo.Constraint(expr= 8*x+3*y>=-24)"
   ]
  },
  {
   "cell_type": "code",
   "execution_count": 8,
   "id": "3409b806",
   "metadata": {},
   "outputs": [],
   "source": [
    "model.C3 = pyo.Constraint(expr= -6*x+8*y<=48)"
   ]
  },
  {
   "cell_type": "code",
   "execution_count": 9,
   "id": "ea171705",
   "metadata": {},
   "outputs": [],
   "source": [
    "model.C4 = pyo.Constraint(expr= 3*x+5*y<=15)"
   ]
  },
  {
   "cell_type": "code",
   "execution_count": 10,
   "id": "d1e77d2a",
   "metadata": {},
   "outputs": [],
   "source": [
    "model.obj = pyo.Objective(expr= -4*x-2*y, sense=minimize)"
   ]
  },
  {
   "cell_type": "code",
   "execution_count": 11,
   "id": "e7e66dce",
   "metadata": {},
   "outputs": [],
   "source": [
    "opt = SolverFactory('glpk')"
   ]
  },
  {
   "cell_type": "code",
   "execution_count": 12,
   "id": "3f599cc3",
   "metadata": {},
   "outputs": [
    {
     "data": {
      "text/plain": [
       "{'Problem': [{'Name': 'unknown', 'Lower bound': -14.4, 'Upper bound': -14.4, 'Number of objectives': 1, 'Number of constraints': 5, 'Number of variables': 3, 'Number of nonzeros': 9, 'Sense': 'minimize'}], 'Solver': [{'Status': 'ok', 'Termination condition': 'optimal', 'Statistics': {'Branch and bound': {'Number of bounded subproblems': 0, 'Number of created subproblems': 0}}, 'Error rc': 0, 'Time': 0.03793954849243164}], 'Solution': [OrderedDict([('number of solutions', 0), ('number of solutions displayed', 0)])]}"
      ]
     },
     "execution_count": 12,
     "metadata": {},
     "output_type": "execute_result"
    }
   ],
   "source": [
    "opt.solve(model)"
   ]
  },
  {
   "cell_type": "code",
   "execution_count": 13,
   "id": "6c207e15",
   "metadata": {},
   "outputs": [
    {
     "name": "stdout",
     "output_type": "stream",
     "text": [
      "2 Var Declarations\n",
      "    x : Size=1, Index=None\n",
      "        Key  : Lower : Value : Upper : Fixed : Stale : Domain\n",
      "        None :  None :   3.0 :     3 : False : False :  Reals\n",
      "    y : Size=1, Index=None\n",
      "        Key  : Lower : Value : Upper : Fixed : Stale : Domain\n",
      "        None :     0 :   1.2 :  None : False : False :  Reals\n",
      "\n",
      "1 Objective Declarations\n",
      "    obj : Size=1, Index=None, Active=True\n",
      "        Key  : Active : Sense    : Expression\n",
      "        None :   True : minimize : -4*x - 2*y\n",
      "\n",
      "4 Constraint Declarations\n",
      "    C1 : Size=1, Index=None, Active=True\n",
      "        Key  : Lower : Body  : Upper : Active\n",
      "        None :  -Inf : x + y :   8.0 :   True\n",
      "    C2 : Size=1, Index=None, Active=True\n",
      "        Key  : Lower : Body      : Upper : Active\n",
      "        None : -24.0 : 8*x + 3*y :  +Inf :   True\n",
      "    C3 : Size=1, Index=None, Active=True\n",
      "        Key  : Lower : Body       : Upper : Active\n",
      "        None :  -Inf : -6*x + 8*y :  48.0 :   True\n",
      "    C4 : Size=1, Index=None, Active=True\n",
      "        Key  : Lower : Body      : Upper : Active\n",
      "        None :  -Inf : 3*x + 5*y :  15.0 :   True\n",
      "\n",
      "7 Declarations: x y C1 C2 C3 C4 obj\n"
     ]
    }
   ],
   "source": [
    "model.pprint()"
   ]
  },
  {
   "cell_type": "code",
   "execution_count": 14,
   "id": "95926e3b",
   "metadata": {},
   "outputs": [
    {
     "name": "stdout",
     "output_type": "stream",
     "text": [
      "x= 3.0\n",
      "y= 1.2\n"
     ]
    }
   ],
   "source": [
    "print('x=', pyo.value(x))\n",
    "print('y=', pyo.value(y))"
   ]
  },
  {
   "cell_type": "code",
   "execution_count": null,
   "id": "9f970f11",
   "metadata": {},
   "outputs": [],
   "source": []
  }
 ],
 "metadata": {
  "kernelspec": {
   "display_name": "Python 3 (ipykernel)",
   "language": "python",
   "name": "python3"
  },
  "language_info": {
   "codemirror_mode": {
    "name": "ipython",
    "version": 3
   },
   "file_extension": ".py",
   "mimetype": "text/x-python",
   "name": "python",
   "nbconvert_exporter": "python",
   "pygments_lexer": "ipython3",
   "version": "3.7.9"
  }
 },
 "nbformat": 4,
 "nbformat_minor": 5
}
