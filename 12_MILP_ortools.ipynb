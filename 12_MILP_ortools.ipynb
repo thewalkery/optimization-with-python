{
 "cells": [
  {
   "cell_type": "code",
   "execution_count": 1,
   "id": "9c0f33ff",
   "metadata": {},
   "outputs": [],
   "source": [
    "from ortools.linear_solver import pywraplp"
   ]
  },
  {
   "cell_type": "code",
   "execution_count": 2,
   "id": "e7f8273c",
   "metadata": {},
   "outputs": [],
   "source": [
    "solver = pywraplp.Solver.CreateSolver('CBC')"
   ]
  },
  {
   "cell_type": "code",
   "execution_count": 3,
   "id": "55607090",
   "metadata": {},
   "outputs": [],
   "source": [
    "# Variable 선언, 0: Lower Bound, 10: Upper Bound\n",
    "x = solver.IntVar(0, 10, 'x')\n",
    "y = solver.NumVar(0, 10, 'y')"
   ]
  },
  {
   "cell_type": "code",
   "execution_count": 4,
   "id": "f3646125",
   "metadata": {},
   "outputs": [
    {
     "data": {
      "text/plain": [
       "<ortools.linear_solver.pywraplp.Constraint; proxy of <Swig Object of type 'operations_research::MPConstraint *' at 0x0000020EEEB39270> >"
      ]
     },
     "execution_count": 4,
     "metadata": {},
     "output_type": "execute_result"
    }
   ],
   "source": [
    "solver.Add(-x+2*y<=7)\n",
    "solver.Add(2*x+y<=14)\n",
    "solver.Add(2*x-y<=10)"
   ]
  },
  {
   "cell_type": "code",
   "execution_count": 5,
   "id": "561257a5",
   "metadata": {},
   "outputs": [],
   "source": [
    "solver.Maximize(x+y)"
   ]
  },
  {
   "cell_type": "code",
   "execution_count": 6,
   "id": "168aef6a",
   "metadata": {},
   "outputs": [],
   "source": [
    "results = solver.Solve()"
   ]
  },
  {
   "cell_type": "code",
   "execution_count": 7,
   "id": "bfe388bf",
   "metadata": {},
   "outputs": [
    {
     "name": "stdout",
     "output_type": "stream",
     "text": [
      "Optimal Found\n"
     ]
    }
   ],
   "source": [
    "if results == pywraplp.Solver.OPTIMAL:\n",
    "    print('Optimal Found')"
   ]
  },
  {
   "cell_type": "code",
   "execution_count": 8,
   "id": "1be222a5",
   "metadata": {},
   "outputs": [
    {
     "name": "stdout",
     "output_type": "stream",
     "text": [
      "x: 4.0\n",
      "y: 5.5\n"
     ]
    }
   ],
   "source": [
    "print('x:', x.solution_value())\n",
    "print('y:', y.solution_value())"
   ]
  },
  {
   "cell_type": "code",
   "execution_count": null,
   "id": "eb85b672",
   "metadata": {},
   "outputs": [],
   "source": []
  }
 ],
 "metadata": {
  "kernelspec": {
   "display_name": "Python 3 (ipykernel)",
   "language": "python",
   "name": "python3"
  },
  "language_info": {
   "codemirror_mode": {
    "name": "ipython",
    "version": 3
   },
   "file_extension": ".py",
   "mimetype": "text/x-python",
   "name": "python",
   "nbconvert_exporter": "python",
   "pygments_lexer": "ipython3",
   "version": "3.7.9"
  }
 },
 "nbformat": 4,
 "nbformat_minor": 5
}
