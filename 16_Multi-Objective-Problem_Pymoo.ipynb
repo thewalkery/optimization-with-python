{
 "cells": [
  {
   "cell_type": "code",
   "execution_count": 1,
   "id": "4eeebb2b",
   "metadata": {},
   "outputs": [
    {
     "name": "stdout",
     "output_type": "stream",
     "text": [
      "Collecting pymoo\n",
      "  Downloading pymoo-0.5.0-cp37-cp37m-win_amd64.whl (1.2 MB)\n",
      "     ---------------------------------------- 1.2/1.2 MB 8.1 MB/s eta 0:00:00\n",
      "Requirement already satisfied: numpy>=1.15 in c:\\users\\thexl\\onedrive\\desktop\\pythonworkspace\\optimization-with-python\\.venv\\lib\\site-packages (from pymoo) (1.21.5)\n",
      "Collecting scipy>=1.1\n",
      "  Using cached scipy-1.7.3-cp37-cp37m-win_amd64.whl (34.1 MB)\n",
      "Collecting autograd>=1.3\n",
      "  Downloading autograd-1.3.tar.gz (38 kB)\n",
      "  Preparing metadata (setup.py): started\n",
      "  Preparing metadata (setup.py): finished with status 'done'\n",
      "Collecting cma==2.7\n",
      "  Downloading cma-2.7.0-py2.py3-none-any.whl (239 kB)\n",
      "     -------------------------------------- 239.1/239.1 KB 7.4 MB/s eta 0:00:00\n",
      "Requirement already satisfied: matplotlib>=3 in c:\\users\\thexl\\onedrive\\desktop\\pythonworkspace\\optimization-with-python\\.venv\\lib\\site-packages (from pymoo) (3.5.1)\n",
      "Collecting future>=0.15.2\n",
      "  Downloading future-0.18.2.tar.gz (829 kB)\n",
      "     -------------------------------------- 829.2/829.2 KB 6.6 MB/s eta 0:00:00\n",
      "  Preparing metadata (setup.py): started\n",
      "  Preparing metadata (setup.py): finished with status 'done'\n",
      "Requirement already satisfied: cycler>=0.10 in c:\\users\\thexl\\onedrive\\desktop\\pythonworkspace\\optimization-with-python\\.venv\\lib\\site-packages (from matplotlib>=3->pymoo) (0.11.0)\n",
      "Requirement already satisfied: pillow>=6.2.0 in c:\\users\\thexl\\onedrive\\desktop\\pythonworkspace\\optimization-with-python\\.venv\\lib\\site-packages (from matplotlib>=3->pymoo) (9.0.1)\n",
      "Requirement already satisfied: pyparsing>=2.2.1 in c:\\users\\thexl\\onedrive\\desktop\\pythonworkspace\\optimization-with-python\\.venv\\lib\\site-packages (from matplotlib>=3->pymoo) (3.0.7)\n",
      "Requirement already satisfied: packaging>=20.0 in c:\\users\\thexl\\onedrive\\desktop\\pythonworkspace\\optimization-with-python\\.venv\\lib\\site-packages (from matplotlib>=3->pymoo) (21.3)\n",
      "Requirement already satisfied: python-dateutil>=2.7 in c:\\users\\thexl\\onedrive\\desktop\\pythonworkspace\\optimization-with-python\\.venv\\lib\\site-packages (from matplotlib>=3->pymoo) (2.8.2)\n",
      "Requirement already satisfied: kiwisolver>=1.0.1 in c:\\users\\thexl\\onedrive\\desktop\\pythonworkspace\\optimization-with-python\\.venv\\lib\\site-packages (from matplotlib>=3->pymoo) (1.3.2)\n",
      "Requirement already satisfied: fonttools>=4.22.0 in c:\\users\\thexl\\onedrive\\desktop\\pythonworkspace\\optimization-with-python\\.venv\\lib\\site-packages (from matplotlib>=3->pymoo) (4.29.1)\n",
      "Requirement already satisfied: six>=1.5 in c:\\users\\thexl\\onedrive\\desktop\\pythonworkspace\\optimization-with-python\\.venv\\lib\\site-packages (from python-dateutil>=2.7->matplotlib>=3->pymoo) (1.16.0)\n",
      "Using legacy 'setup.py install' for autograd, since package 'wheel' is not installed.\n",
      "Using legacy 'setup.py install' for future, since package 'wheel' is not installed.\n",
      "Installing collected packages: cma, scipy, future, autograd, pymoo\n",
      "  Running setup.py install for future: started\n",
      "  Running setup.py install for future: finished with status 'done'\n",
      "  Running setup.py install for autograd: started\n",
      "  Running setup.py install for autograd: finished with status 'done'\n",
      "Successfully installed autograd-1.3 cma-2.7.0 future-0.18.2 pymoo-0.5.0 scipy-1.7.3\n"
     ]
    }
   ],
   "source": [
    "!pip install pymoo"
   ]
  },
  {
   "cell_type": "code",
   "execution_count": 2,
   "id": "a359dac9",
   "metadata": {},
   "outputs": [],
   "source": [
    "import numpy as np\n",
    "from pymoo.core.problem import ElementwiseProblem\n",
    " \n",
    "class MyProblem(ElementwiseProblem):\n",
    " \n",
    "    def __init__(self):\n",
    "        super().__init__(n_var=2,\n",
    "                         n_obj=2,\n",
    "                         n_constr=2,\n",
    "                         xl=np.array([-2,-2]),\n",
    "                         xu=np.array([2,2]))\n",
    " \n",
    "    def _evaluate(self, x, out, *args, **kwargs):\n",
    "        f1 = 100 * (x[0]**2 + x[1]**2)\n",
    "        f2 = (x[0]-1)**2 + x[1]**2\n",
    " \n",
    "        g1 = 2*(x[0]-0.1) * (x[0]-0.9) / 0.18\n",
    "        g2 = - 20*(x[0]-0.4) * (x[0]-0.6) / 4.8\n",
    " \n",
    "        out[\"F\"] = [f1, f2]\n",
    "        out[\"G\"] = [g1, g2]\n",
    " \n",
    " \n",
    "problem = MyProblem()"
   ]
  },
  {
   "cell_type": "code",
   "execution_count": 3,
   "id": "945270b0",
   "metadata": {},
   "outputs": [
    {
     "name": "stdout",
     "output_type": "stream",
     "text": [
      "=====================================================================================\n",
      "n_gen |  n_eval |   cv (min)   |   cv (avg)   |  n_nds  |     eps      |  indicator  \n",
      "=====================================================================================\n",
      "    1 |      40 |  0.00000E+00 |  2.36399E+01 |       1 |            - |            -\n",
      "    2 |      50 |  0.00000E+00 |  1.15486E+01 |       1 |  0.00000E+00 |            f\n",
      "    3 |      60 |  0.00000E+00 |  5.277918607 |       1 |  0.00000E+00 |            f\n",
      "    4 |      70 |  0.00000E+00 |  2.406068542 |       2 |  1.000000000 |        ideal\n",
      "    5 |      80 |  0.00000E+00 |  0.908316880 |       3 |  0.869706146 |        ideal\n",
      "    6 |      90 |  0.00000E+00 |  0.264746300 |       3 |  0.00000E+00 |            f\n",
      "    7 |     100 |  0.00000E+00 |  0.054063822 |       4 |  0.023775686 |        ideal\n",
      "    8 |     110 |  0.00000E+00 |  0.003060876 |       5 |  0.127815454 |        ideal\n",
      "    9 |     120 |  0.00000E+00 |  0.00000E+00 |       6 |  0.085921728 |        ideal\n",
      "   10 |     130 |  0.00000E+00 |  0.00000E+00 |       7 |  0.015715204 |            f\n",
      "   11 |     140 |  0.00000E+00 |  0.00000E+00 |       8 |  0.015076323 |            f\n",
      "   12 |     150 |  0.00000E+00 |  0.00000E+00 |       7 |  0.026135665 |            f\n",
      "   13 |     160 |  0.00000E+00 |  0.00000E+00 |      10 |  0.010026699 |            f\n",
      "   14 |     170 |  0.00000E+00 |  0.00000E+00 |      11 |  0.011833783 |            f\n",
      "   15 |     180 |  0.00000E+00 |  0.00000E+00 |      12 |  0.008294035 |            f\n",
      "   16 |     190 |  0.00000E+00 |  0.00000E+00 |      14 |  0.006095993 |        ideal\n",
      "   17 |     200 |  0.00000E+00 |  0.00000E+00 |      17 |  0.002510398 |        ideal\n",
      "   18 |     210 |  0.00000E+00 |  0.00000E+00 |      20 |  0.003652660 |            f\n",
      "   19 |     220 |  0.00000E+00 |  0.00000E+00 |      20 |  0.010131820 |        nadir\n",
      "   20 |     230 |  0.00000E+00 |  0.00000E+00 |      21 |  0.005676014 |            f\n",
      "   21 |     240 |  0.00000E+00 |  0.00000E+00 |      25 |  0.010464402 |            f\n",
      "   22 |     250 |  0.00000E+00 |  0.00000E+00 |      25 |  0.000547515 |            f\n",
      "   23 |     260 |  0.00000E+00 |  0.00000E+00 |      28 |  0.001050255 |            f\n",
      "   24 |     270 |  0.00000E+00 |  0.00000E+00 |      33 |  0.003841298 |            f\n",
      "   25 |     280 |  0.00000E+00 |  0.00000E+00 |      37 |  0.006664377 |        nadir\n",
      "   26 |     290 |  0.00000E+00 |  0.00000E+00 |      40 |  0.000963164 |            f\n",
      "   27 |     300 |  0.00000E+00 |  0.00000E+00 |      40 |  0.000678243 |            f\n",
      "   28 |     310 |  0.00000E+00 |  0.00000E+00 |      40 |  0.000815766 |            f\n",
      "   29 |     320 |  0.00000E+00 |  0.00000E+00 |      40 |  0.001500814 |            f\n",
      "   30 |     330 |  0.00000E+00 |  0.00000E+00 |      40 |  0.014706442 |        nadir\n",
      "   31 |     340 |  0.00000E+00 |  0.00000E+00 |      40 |  0.003554320 |        ideal\n",
      "   32 |     350 |  0.00000E+00 |  0.00000E+00 |      40 |  0.000624123 |            f\n",
      "   33 |     360 |  0.00000E+00 |  0.00000E+00 |      40 |  0.000203925 |            f\n",
      "   34 |     370 |  0.00000E+00 |  0.00000E+00 |      40 |  0.001048509 |            f\n",
      "   35 |     380 |  0.00000E+00 |  0.00000E+00 |      40 |  0.001121103 |            f\n",
      "   36 |     390 |  0.00000E+00 |  0.00000E+00 |      40 |  0.000664461 |            f\n",
      "   37 |     400 |  0.00000E+00 |  0.00000E+00 |      40 |  0.000761066 |            f\n",
      "   38 |     410 |  0.00000E+00 |  0.00000E+00 |      40 |  0.000521906 |            f\n",
      "   39 |     420 |  0.00000E+00 |  0.00000E+00 |      40 |  0.004652095 |        nadir\n",
      "   40 |     430 |  0.00000E+00 |  0.00000E+00 |      40 |  0.000287847 |            f\n"
     ]
    }
   ],
   "source": [
    "import numpy as np\n",
    "from pymoo.core.problem import ElementwiseProblem\n",
    "from pymoo.factory import get_termination\n",
    "from pymoo.algorithms.moo.nsga2 import NSGA2\n",
    "from pymoo.factory import get_sampling, get_crossover, get_mutation\n",
    "from pymoo.optimize import minimize\n",
    " \n",
    "#definition of the problem\n",
    "class MyProblem(ElementwiseProblem):\n",
    "     \n",
    "    def __init__(self):\n",
    "        super().__init__(n_var=2,\n",
    "                         n_obj=2,\n",
    "                         n_constr=2,\n",
    "                         xl=np.array([-2,-2]),\n",
    "                         xu=np.array([2,2]))\n",
    " \n",
    "    def _evaluate(self, x, out, *args, **kwargs):\n",
    "        f1 = 100 * (x[0]**2 + x[1]**2)\n",
    "        f2 = (x[0]-1)**2 + x[1]**2\n",
    " \n",
    "        g1 = 2*(x[0]-0.1) * (x[0]-0.9) / 0.18\n",
    "        g2 = - 20*(x[0]-0.4) * (x[0]-0.6) / 4.8\n",
    " \n",
    "        out[\"F\"] = [f1, f2]\n",
    "        out[\"G\"] = [g1, g2]\n",
    " \n",
    "problem = MyProblem()\n",
    " \n",
    "#parameters\n",
    "algorithm = NSGA2(\n",
    "    pop_size=40,\n",
    "    n_offsprings=10,\n",
    "    sampling=get_sampling(\"real_random\"),\n",
    "    crossover=get_crossover(\"real_sbx\", prob=0.9, eta=15),\n",
    "    mutation=get_mutation(\"real_pm\", eta=20),\n",
    "    eliminate_duplicates=True\n",
    ")\n",
    " \n",
    "#termination criteria\n",
    "termination = get_termination(\"n_gen\", 40)\n",
    " \n",
    "#solve problem\n",
    "res = minimize(problem,\n",
    "               algorithm,\n",
    "               termination,\n",
    "               seed=1,\n",
    "               save_history=True,\n",
    "               verbose=True)\n",
    " \n",
    "#get solutions\n",
    "X = res.X\n",
    "F = res.F"
   ]
  },
  {
   "cell_type": "code",
   "execution_count": 4,
   "id": "8b6cbeb0",
   "metadata": {},
   "outputs": [
    {
     "data": {
      "image/png": "[encoded data removed]",
      "text/plain": [
       "<Figure size 504x360 with 1 Axes>"
      ]
     },
     "metadata": {
      "needs_background": "light"
     },
     "output_type": "display_data"
    }
   ],
   "source": [
    "import matplotlib.pyplot as plt\n",
    "plt.figure(figsize=(7, 5))\n",
    "plt.scatter(F[:, 0], F[:, 1], s=30, facecolors='none', edgecolors='blue')\n",
    "plt.title(\"Objective Space\")\n",
    "plt.show()"
   ]
  },
  {
   "cell_type": "code",
   "execution_count": null,
   "id": "cda59ce7",
   "metadata": {},
   "outputs": [],
   "source": []
  }
 ],
 "metadata": {
  "kernelspec": {
   "display_name": "Python 3 (ipykernel)",
   "language": "python",
   "name": "python3"
  },
  "language_info": {
   "codemirror_mode": {
    "name": "ipython",
    "version": 3
   },
   "file_extension": ".py",
   "mimetype": "text/x-python",
   "name": "python",
   "nbconvert_exporter": "python",
   "pygments_lexer": "ipython3",
   "version": "3.7.9"
  }
 },
 "nbformat": 4,
 "nbformat_minor": 5
}
