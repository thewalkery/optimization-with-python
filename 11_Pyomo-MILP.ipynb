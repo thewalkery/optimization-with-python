{
 "cells": [
  {
   "cell_type": "code",
   "execution_count": 2,
   "id": "8cdbd805",
   "metadata": {},
   "outputs": [
    {
     "name": "stdout",
     "output_type": "stream",
     "text": [
      "2 Var Declarations\n",
      "    x : Size=1, Index=None\n",
      "        Key  : Lower : Value : Upper : Fixed : Stale : Domain\n",
      "        None :     0 :   4.0 :    10 : False : False : Integers\n",
      "    y : Size=1, Index=None\n",
      "        Key  : Lower : Value : Upper : Fixed : Stale : Domain\n",
      "        None :     0 :   5.5 :    10 : False : False :  Reals\n",
      "\n",
      "1 Objective Declarations\n",
      "    obj : Size=1, Index=None, Active=True\n",
      "        Key  : Active : Sense    : Expression\n",
      "        None :   True : maximize : x + y\n",
      "\n",
      "3 Constraint Declarations\n",
      "    C1 : Size=1, Index=None, Active=True\n",
      "        Key  : Lower : Body      : Upper : Active\n",
      "        None :  -Inf : - x + 2*y :   7.0 :   True\n",
      "    C2 : Size=1, Index=None, Active=True\n",
      "        Key  : Lower : Body    : Upper : Active\n",
      "        None :  -Inf : 2*x + y :  14.0 :   True\n",
      "    C3 : Size=1, Index=None, Active=True\n",
      "        Key  : Lower : Body    : Upper : Active\n",
      "        None :  -Inf : 2*x - y :  10.0 :   True\n",
      "\n",
      "6 Declarations: x y C1 C2 C3 obj\n",
      "x= 4.0\n",
      "y= 5.5\n"
     ]
    }
   ],
   "source": [
    "import pyomo.environ as pyo\n",
    "from pyomo.environ import *\n",
    "from pyomo.opt import SolverFactory\n",
    "\n",
    "model = pyo.ConcreteModel()\n",
    "\n",
    "model.x = pyo.Var(within=Integers, bounds=(0,10))\n",
    "model.y = pyo.Var(bounds=(0,10))\n",
    "\n",
    "x = model.x\n",
    "y = model.y\n",
    "\n",
    "model.C1 = pyo.Constraint(expr= -x+2*y<=7)\n",
    "model.C2 = pyo.Constraint(expr= 2*x+y<=14)\n",
    "model.C3 = pyo.Constraint(expr= 2*x-y<=10)\n",
    "\n",
    "model.obj = pyo.Objective(expr= x+y, sense=maximize)\n",
    "\n",
    "opt = SolverFactory('glpk')\n",
    "opt.solve(model)\n",
    "\n",
    "model.pprint()\n",
    "\n",
    "x_value = pyo.value(x)\n",
    "y_value = pyo.value(y)\n",
    "\n",
    "print('x=', x_value)\n",
    "print('y=', y_value)"
   ]
  },
  {
   "cell_type": "code",
   "execution_count": null,
   "id": "8a530a8b",
   "metadata": {},
   "outputs": [],
   "source": []
  }
 ],
 "metadata": {
  "kernelspec": {
   "display_name": "Python 3 (ipykernel)",
   "language": "python",
   "name": "python3"
  },
  "language_info": {
   "codemirror_mode": {
    "name": "ipython",
    "version": 3
   },
   "file_extension": ".py",
   "mimetype": "text/x-python",
   "name": "python",
   "nbconvert_exporter": "python",
   "pygments_lexer": "ipython3",
   "version": "3.7.9"
  }
 },
 "nbformat": 4,
 "nbformat_minor": 5
}
