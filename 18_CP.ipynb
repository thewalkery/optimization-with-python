{
 "cells": [
  {
   "cell_type": "code",
   "execution_count": 1,
   "id": "8d2abfab",
   "metadata": {},
   "outputs": [],
   "source": []
  },
  {
   "cell_type": "code",
   "execution_count": 20,
   "id": "1548f406",
   "metadata": {},
   "outputs": [
    {
     "name": "stdout",
     "output_type": "stream",
     "text": [
      "Status =  OPTIMAL\n",
      "FO = 35.0\n",
      "x = 7\n",
      "y = 3\n",
      "z = 5\n"
     ]
    }
   ],
   "source": [
    "from ortools.sat.python import cp_model\n",
    "\n",
    "model = cp_model.CpModel()\n",
    "\n",
    "x = model.NewIntVar(0, 1000, 'x')\n",
    "y = model.NewIntVar(0, 1000, 'y')\n",
    "z = model.NewIntVar(0, 1000, 'z')\n",
    "\n",
    "model.Add(2*x+7*y+3*z<=50)\n",
    "model.Add(3*x-5*y+7*z<=45)\n",
    "model.Add(5*x+2*y-6*z<=37)\n",
    "\n",
    "model.Maximize(2*x+2*y+3*z)\n",
    "\n",
    "solver = cp_model.CpSolver()\n",
    "status = solver.Solve(model)\n",
    "\n",
    "print('Status = ', solver.StatusName(status))\n",
    "print('FO =', solver.ObjectiveValue())\n",
    "print('x =', solver.Value(x))\n",
    "print('y =', solver.Value(y))\n",
    "print('z =', solver.Value(z))"
   ]
  },
  {
   "cell_type": "code",
   "execution_count": 21,
   "id": "661c947d",
   "metadata": {},
   "outputs": [],
   "source": [
    "class VarArraySolutionPrinter(cp_model.CpSolverSolutionCallback):\n",
    "    \"\"\"Print intermediate solutions.\"\"\"\n",
    "\n",
    "    def __init__(self, variables):\n",
    "        cp_model.CpSolverSolutionCallback.__init__(self)\n",
    "        self.__variables = variables\n",
    "        self.__solution_count = 0\n",
    "\n",
    "    def on_solution_callback(self):\n",
    "        self.__solution_count += 1\n",
    "        for v in self.__variables:\n",
    "            print('%s=%i' % (v, self.Value(v)), end=' ')\n",
    "        print()\n",
    "\n",
    "    def solution_count(self):\n",
    "        return self.__solution_count"
   ]
  },
  {
   "cell_type": "code",
   "execution_count": 24,
   "id": "e4727ff1",
   "metadata": {},
   "outputs": [
    {
     "name": "stdout",
     "output_type": "stream",
     "text": [
      "x=10 y=2 z=3 \n",
      "x=7 y=3 z=5 \n"
     ]
    }
   ],
   "source": [
    "solution_printer = VarArraySolutionPrinter([x, y, z])\n",
    "# Enumerate all solutions.\n",
    "solver.parameters.enumerate_all_solutions = True\n",
    "# Solve.\n",
    "status = solver.Solve(model, solution_printer)"
   ]
  },
  {
   "cell_type": "code",
   "execution_count": null,
   "id": "b757109b",
   "metadata": {},
   "outputs": [],
   "source": []
  }
 ],
 "metadata": {
  "kernelspec": {
   "display_name": "Python 3 (ipykernel)",
   "language": "python",
   "name": "python3"
  },
  "language_info": {
   "codemirror_mode": {
    "name": "ipython",
    "version": 3
   },
   "file_extension": ".py",
   "mimetype": "text/x-python",
   "name": "python",
   "nbconvert_exporter": "python",
   "pygments_lexer": "ipython3",
   "version": "3.7.9"
  }
 },
 "nbformat": 4,
 "nbformat_minor": 5
}
