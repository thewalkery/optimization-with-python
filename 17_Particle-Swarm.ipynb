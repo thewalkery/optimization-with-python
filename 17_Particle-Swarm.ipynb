{
 "cells": [
  {
   "cell_type": "code",
   "execution_count": 1,
   "id": "b216df8d",
   "metadata": {},
   "outputs": [
    {
     "name": "stdout",
     "output_type": "stream",
     "text": [
      "Collecting pyswarm\n",
      "  Downloading pyswarm-0.6.tar.gz (4.3 kB)\n",
      "  Preparing metadata (setup.py): started\n",
      "  Preparing metadata (setup.py): finished with status 'done'\n",
      "Requirement already satisfied: numpy in c:\\users\\thexl\\onedrive\\desktop\\pythonworkspace\\optimization-with-python\\.venv\\lib\\site-packages (from pyswarm) (1.21.5)\n",
      "Using legacy 'setup.py install' for pyswarm, since package 'wheel' is not installed.\n",
      "Installing collected packages: pyswarm\n",
      "  Running setup.py install for pyswarm: started\n",
      "  Running setup.py install for pyswarm: finished with status 'done'\n",
      "Successfully installed pyswarm-0.6\n"
     ]
    }
   ],
   "source": [
    "!pip install pyswarm"
   ]
  },
  {
   "cell_type": "markdown",
   "id": "ae261b0e",
   "metadata": {},
   "source": [
    "Objective  \n",
    "- $\\max x + xy$\n",
    "\n",
    "Constrains  \n",
    "- $-x + 2yx \\le 8$  \n",
    "- $2x + y \\le 14$  \n",
    "- $2x - y \\le 10$  \n",
    "- $0 \\le x \\le 10$  \n",
    "- $0 \\le y \\le 10$  \n",
    "- $x$ integer  "
   ]
  },
  {
   "cell_type": "code",
   "execution_count": 29,
   "id": "9d95ff7c",
   "metadata": {},
   "outputs": [],
   "source": [
    "import numpy as np"
   ]
  },
  {
   "cell_type": "code",
   "execution_count": 30,
   "id": "99f0a83e",
   "metadata": {},
   "outputs": [],
   "source": [
    "from pyswarm import pso"
   ]
  },
  {
   "cell_type": "code",
   "execution_count": 36,
   "id": "28bce91a",
   "metadata": {},
   "outputs": [],
   "source": [
    "def model_obj(x):\n",
    "    pen = 0\n",
    "    x[0] = np.round(x[0], 0)\n",
    "    if not -x[0] + 2*x[1]*x[0] <= 8:\n",
    "        pen = np.inf\n",
    "    if not 2*x[0] + x[1] <= 14:\n",
    "        pen = np.inf\n",
    "    if not 2*x[0] - x[1] <= 10:\n",
    "        pen = np.inf\n",
    "    \n",
    "    return -(x[0]+x[0]*x[1]) + pen"
   ]
  },
  {
   "cell_type": "code",
   "execution_count": 37,
   "id": "90d6bd05",
   "metadata": {},
   "outputs": [],
   "source": [
    "def cons(x):\n",
    "    # constraint를 여기에 써도 되나, model_obj에서 penalty처리헀으므로 빈 리스트 리턴\n",
    "    return []"
   ]
  },
  {
   "cell_type": "code",
   "execution_count": 38,
   "id": "8c271ba0",
   "metadata": {},
   "outputs": [],
   "source": [
    "lb = [0, 0]\n",
    "ub = [10, 10]\n",
    "x0 = [0, 0] # Initial point"
   ]
  },
  {
   "cell_type": "code",
   "execution_count": 39,
   "id": "5f743e2b",
   "metadata": {},
   "outputs": [
    {
     "name": "stdout",
     "output_type": "stream",
     "text": [
      "Stopping search: Swarm best objective change less than 1e-08\n"
     ]
    }
   ],
   "source": [
    "xopt, fopt = pso(model_obj, lb, ub, x0, cons)"
   ]
  },
  {
   "cell_type": "code",
   "execution_count": 40,
   "id": "d1f19bcf",
   "metadata": {},
   "outputs": [
    {
     "name": "stdout",
     "output_type": "stream",
     "text": [
      "x = 5.0\n",
      "y = 1.299999992890282\n"
     ]
    }
   ],
   "source": [
    "print('x =', xopt[0])\n",
    "print('y =', xopt[1])"
   ]
  },
  {
   "cell_type": "code",
   "execution_count": null,
   "id": "917969d6",
   "metadata": {},
   "outputs": [],
   "source": []
  }
 ],
 "metadata": {
  "kernelspec": {
   "display_name": "Python 3 (ipykernel)",
   "language": "python",
   "name": "python3"
  },
  "language_info": {
   "codemirror_mode": {
    "name": "ipython",
    "version": 3
   },
   "file_extension": ".py",
   "mimetype": "text/x-python",
   "name": "python",
   "nbconvert_exporter": "python",
   "pygments_lexer": "ipython3",
   "version": "3.7.9"
  }
 },
 "nbformat": 4,
 "nbformat_minor": 5
}
