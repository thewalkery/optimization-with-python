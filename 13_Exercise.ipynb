{
 "cells": [
  {
   "cell_type": "code",
   "execution_count": 1,
   "id": "21de7144",
   "metadata": {},
   "outputs": [],
   "source": [
    "import pyomo.environ as pyo\n",
    "from pyomo.environ import *\n",
    "from pyomo.opt import SolverFactory\n",
    "import pandas as pd"
   ]
  },
  {
   "cell_type": "code",
   "execution_count": 10,
   "id": "12468ddd",
   "metadata": {},
   "outputs": [],
   "source": [
    "model = pyo.ConcreteModel()\n",
    "\n",
    "model.x = pyo.Var(range(1, 6), within=Integers, bounds=(0,None))\n",
    "model.y = pyo.Var(bounds=(0,None))"
   ]
  },
  {
   "cell_type": "code",
   "execution_count": 11,
   "id": "0977a3f4",
   "metadata": {},
   "outputs": [
    {
     "name": "stdout",
     "output_type": "stream",
     "text": [
      "1 Set Declarations\n",
      "    x_index : Size=1, Index=None, Ordered=Insertion\n",
      "        Key  : Dimen : Domain : Size : Members\n",
      "        None :     1 :    Any :    5 : {1, 2, 3, 4, 5}\n",
      "\n",
      "2 Var Declarations\n",
      "    x : Size=5, Index=x_index\n",
      "        Key : Lower : Value : Upper : Fixed : Stale : Domain\n",
      "          1 :     0 :  None :  None : False :  True : Integers\n",
      "          2 :     0 :  None :  None : False :  True : Integers\n",
      "          3 :     0 :  None :  None : False :  True : Integers\n",
      "          4 :     0 :  None :  None : False :  True : Integers\n",
      "          5 :     0 :  None :  None : False :  True : Integers\n",
      "    y : Size=1, Index=None\n",
      "        Key  : Lower : Value : Upper : Fixed : Stale : Domain\n",
      "        None :     0 :  None :  None : False :  True :  Reals\n",
      "\n",
      "3 Declarations: x_index x y\n"
     ]
    }
   ],
   "source": [
    "model.pprint()"
   ]
  },
  {
   "cell_type": "code",
   "execution_count": 12,
   "id": "04d4b256",
   "metadata": {},
   "outputs": [],
   "source": [
    "sum_x = sum([model.x[i] for i in range(1, 6)])"
   ]
  },
  {
   "cell_type": "code",
   "execution_count": 13,
   "id": "8eb435b4",
   "metadata": {},
   "outputs": [
    {
     "name": "stdout",
     "output_type": "stream",
     "text": [
      "x[1] + x[2] + x[3] + x[4] + x[5]\n"
     ]
    }
   ],
   "source": [
    "print(sum_x)"
   ]
  },
  {
   "cell_type": "code",
   "execution_count": 15,
   "id": "d71b3be7",
   "metadata": {},
   "outputs": [],
   "source": [
    "model.obj = pyo.Objective(expr = sum_x + model.y)"
   ]
  },
  {
   "cell_type": "code",
   "execution_count": 16,
   "id": "eacc7335",
   "metadata": {},
   "outputs": [],
   "source": [
    "model.c1 = pyo.Constraint(expr = sum_x + model.y <= 20)"
   ]
  },
  {
   "cell_type": "code",
   "execution_count": 17,
   "id": "ddad9d1e",
   "metadata": {},
   "outputs": [],
   "source": [
    "model.c2 = pyo.ConstraintList()\n",
    "for i in range(1, 6):\n",
    "    model.c2.add(expr = model.x[i] + model.y >= 15)"
   ]
  },
  {
   "cell_type": "code",
   "execution_count": 18,
   "id": "1bd17282",
   "metadata": {},
   "outputs": [],
   "source": [
    "sum_xi = sum([i*model.x[i] for i in range(1, 6)])"
   ]
  },
  {
   "cell_type": "code",
   "execution_count": 19,
   "id": "8a2bb867",
   "metadata": {},
   "outputs": [
    {
     "name": "stdout",
     "output_type": "stream",
     "text": [
      "x[1] + 2*x[2] + 3*x[3] + 4*x[4] + 5*x[5]\n"
     ]
    }
   ],
   "source": [
    "print(sum_xi)"
   ]
  },
  {
   "cell_type": "code",
   "execution_count": 20,
   "id": "22b9d8c4",
   "metadata": {},
   "outputs": [],
   "source": [
    "model.c3 = pyo.Constraint(expr = sum_xi >= 10)"
   ]
  },
  {
   "cell_type": "code",
   "execution_count": 21,
   "id": "05e1e692",
   "metadata": {},
   "outputs": [],
   "source": [
    "model.c4 = pyo.Constraint(expr = model.x[5] + 2*model.y >= 30)"
   ]
  },
  {
   "cell_type": "code",
   "execution_count": 22,
   "id": "2ec09a6f",
   "metadata": {},
   "outputs": [
    {
     "name": "stdout",
     "output_type": "stream",
     "text": [
      "2 Set Declarations\n",
      "    c2_index : Size=1, Index=None, Ordered=Insertion\n",
      "        Key  : Dimen : Domain : Size : Members\n",
      "        None :     1 :    Any :    5 : {1, 2, 3, 4, 5}\n",
      "    x_index : Size=1, Index=None, Ordered=Insertion\n",
      "        Key  : Dimen : Domain : Size : Members\n",
      "        None :     1 :    Any :    5 : {1, 2, 3, 4, 5}\n",
      "\n",
      "2 Var Declarations\n",
      "    x : Size=5, Index=x_index\n",
      "        Key : Lower : Value : Upper : Fixed : Stale : Domain\n",
      "          1 :     0 :  None :  None : False :  True : Integers\n",
      "          2 :     0 :  None :  None : False :  True : Integers\n",
      "          3 :     0 :  None :  None : False :  True : Integers\n",
      "          4 :     0 :  None :  None : False :  True : Integers\n",
      "          5 :     0 :  None :  None : False :  True : Integers\n",
      "    y : Size=1, Index=None\n",
      "        Key  : Lower : Value : Upper : Fixed : Stale : Domain\n",
      "        None :     0 :  None :  None : False :  True :  Reals\n",
      "\n",
      "1 Objective Declarations\n",
      "    obj : Size=1, Index=None, Active=True\n",
      "        Key  : Active : Sense    : Expression\n",
      "        None :   True : minimize : x[1] + x[2] + x[3] + x[4] + x[5] + y\n",
      "\n",
      "4 Constraint Declarations\n",
      "    c1 : Size=1, Index=None, Active=True\n",
      "        Key  : Lower : Body                                 : Upper : Active\n",
      "        None :  -Inf : x[1] + x[2] + x[3] + x[4] + x[5] + y :  20.0 :   True\n",
      "    c2 : Size=5, Index=c2_index, Active=True\n",
      "        Key : Lower : Body     : Upper : Active\n",
      "          1 :  15.0 : x[1] + y :  +Inf :   True\n",
      "          2 :  15.0 : x[2] + y :  +Inf :   True\n",
      "          3 :  15.0 : x[3] + y :  +Inf :   True\n",
      "          4 :  15.0 : x[4] + y :  +Inf :   True\n",
      "          5 :  15.0 : x[5] + y :  +Inf :   True\n",
      "    c3 : Size=1, Index=None, Active=True\n",
      "        Key  : Lower : Body                                     : Upper : Active\n",
      "        None :  10.0 : x[1] + 2*x[2] + 3*x[3] + 4*x[4] + 5*x[5] :  +Inf :   True\n",
      "    c4 : Size=1, Index=None, Active=True\n",
      "        Key  : Lower : Body       : Upper : Active\n",
      "        None :  30.0 : x[5] + 2*y :  +Inf :   True\n",
      "\n",
      "9 Declarations: x_index x y obj c1 c2_index c2 c3 c4\n"
     ]
    }
   ],
   "source": [
    "model.pprint()"
   ]
  },
  {
   "cell_type": "code",
   "execution_count": 23,
   "id": "f7ef7b5a",
   "metadata": {},
   "outputs": [],
   "source": [
    "opt = SolverFactory('cbc', executable='D:\\\\Solver-CBC\\\\win32-msvc9\\\\bin\\\\cbc.exe')\n",
    "results = opt.solve(model)"
   ]
  },
  {
   "cell_type": "code",
   "execution_count": 39,
   "id": "b47437b5",
   "metadata": {},
   "outputs": [
    {
     "name": "stdout",
     "output_type": "stream",
     "text": [
      "x[1]= 0.0\n",
      "x[2]= 0.0\n",
      "x[3]= 0.0\n",
      "x[4]= 0.0\n",
      "x[5]= 2.0\n"
     ]
    }
   ],
   "source": [
    "for i in range(1, 6):\n",
    "    print('x[{}]='.format(i), pyo.value(model.x[i]))"
   ]
  },
  {
   "cell_type": "code",
   "execution_count": 40,
   "id": "60d178b4",
   "metadata": {},
   "outputs": [
    {
     "name": "stdout",
     "output_type": "stream",
     "text": [
      "y= 15.0\n"
     ]
    }
   ],
   "source": [
    "print('y=', pyo.value(model.y))"
   ]
  },
  {
   "cell_type": "code",
   "execution_count": 41,
   "id": "45ae0169",
   "metadata": {},
   "outputs": [
    {
     "name": "stdout",
     "output_type": "stream",
     "text": [
      "Obj= 17.0\n"
     ]
    }
   ],
   "source": [
    "print('Obj=', pyo.value(model.obj))"
   ]
  },
  {
   "cell_type": "code",
   "execution_count": null,
   "id": "36ddd1b1",
   "metadata": {},
   "outputs": [],
   "source": []
  }
 ],
 "metadata": {
  "kernelspec": {
   "display_name": "Python 3 (ipykernel)",
   "language": "python",
   "name": "python3"
  },
  "language_info": {
   "codemirror_mode": {
    "name": "ipython",
    "version": 3
   },
   "file_extension": ".py",
   "mimetype": "text/x-python",
   "name": "python",
   "nbconvert_exporter": "python",
   "pygments_lexer": "ipython3",
   "version": "3.7.9"
  }
 },
 "nbformat": 4,
 "nbformat_minor": 5
}
