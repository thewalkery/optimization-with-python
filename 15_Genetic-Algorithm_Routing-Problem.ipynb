{
 "cells": [
  {
   "cell_type": "code",
   "execution_count": 43,
   "id": "234b07e9",
   "metadata": {},
   "outputs": [
    {
     "data": {
      "text/html": [
       "<div>\n",
       "<style scoped>\n",
       "    .dataframe tbody tr th:only-of-type {\n",
       "        vertical-align: middle;\n",
       "    }\n",
       "\n",
       "    .dataframe tbody tr th {\n",
       "        vertical-align: top;\n",
       "    }\n",
       "\n",
       "    .dataframe thead th {\n",
       "        text-align: right;\n",
       "    }\n",
       "</style>\n",
       "<table border=\"1\" class=\"dataframe\">\n",
       "  <thead>\n",
       "    <tr style=\"text-align: right;\">\n",
       "      <th></th>\n",
       "      <th>node_from</th>\n",
       "      <th>node_to</th>\n",
       "      <th>distance</th>\n",
       "    </tr>\n",
       "  </thead>\n",
       "  <tbody>\n",
       "    <tr>\n",
       "      <th>0</th>\n",
       "      <td>1</td>\n",
       "      <td>2</td>\n",
       "      <td>220</td>\n",
       "    </tr>\n",
       "    <tr>\n",
       "      <th>1</th>\n",
       "      <td>1</td>\n",
       "      <td>3</td>\n",
       "      <td>1500</td>\n",
       "    </tr>\n",
       "    <tr>\n",
       "      <th>2</th>\n",
       "      <td>2</td>\n",
       "      <td>4</td>\n",
       "      <td>650</td>\n",
       "    </tr>\n",
       "    <tr>\n",
       "      <th>3</th>\n",
       "      <td>2</td>\n",
       "      <td>5</td>\n",
       "      <td>900</td>\n",
       "    </tr>\n",
       "    <tr>\n",
       "      <th>4</th>\n",
       "      <td>4</td>\n",
       "      <td>7</td>\n",
       "      <td>500</td>\n",
       "    </tr>\n",
       "    <tr>\n",
       "      <th>5</th>\n",
       "      <td>5</td>\n",
       "      <td>7</td>\n",
       "      <td>400</td>\n",
       "    </tr>\n",
       "    <tr>\n",
       "      <th>6</th>\n",
       "      <td>3</td>\n",
       "      <td>6</td>\n",
       "      <td>500</td>\n",
       "    </tr>\n",
       "    <tr>\n",
       "      <th>7</th>\n",
       "      <td>6</td>\n",
       "      <td>7</td>\n",
       "      <td>400</td>\n",
       "    </tr>\n",
       "  </tbody>\n",
       "</table>\n",
       "</div>"
      ],
      "text/plain": [
       "   node_from  node_to  distance\n",
       "0          1        2       220\n",
       "1          1        3      1500\n",
       "2          2        4       650\n",
       "3          2        5       900\n",
       "4          4        7       500\n",
       "5          5        7       400\n",
       "6          3        6       500\n",
       "7          6        7       400"
      ]
     },
     "execution_count": 43,
     "metadata": {},
     "output_type": "execute_result"
    }
   ],
   "source": [
    "import numpy as np\n",
    "from geneticalgorithm import geneticalgorithm as ga\n",
    "import pandas as pd\n",
    "from io import StringIO\n",
    "\n",
    "paths_str = \"\"\"node_from\tnode_to\tdistance\n",
    "1\t2\t220\n",
    "1\t3\t1500\n",
    "2\t4\t650\n",
    "2\t5\t900\n",
    "4\t7\t500\n",
    "5\t7\t400\n",
    "3\t6\t500\n",
    "6\t7\t400\n",
    "\"\"\"\n",
    "\n",
    "paths = pd.read_csv(StringIO(paths_str), sep=\"\\t\")\n",
    "paths"
   ]
  },
  {
   "cell_type": "markdown",
   "id": "a2c920e7",
   "metadata": {},
   "source": [
    "- Terms\n",
    "    - $x_{ij}$: 노드 i에서 노드 j로 가는 길 선택 시 1, 아니면 0\n",
    "    - $D_{ij}$: 노드 i에서 노드 j 사이의 거리\n",
    "- Objective: $minimize(\\sum x_{ij} D_{ij})$\n",
    "- Constraints:\n",
    "    1. $\\sum_{j} x_{ji} = \\sum_{k} x_{ik} \\quad \\forall i \\notin \\{1, 7\\}$\n",
    "    2. $\\sum_{i} x_{1i} = 1$\n",
    "    3. $\\sum_{i} x_{i7} = 1$"
   ]
  },
  {
   "cell_type": "markdown",
   "id": "7abf9694",
   "metadata": {},
   "source": [
    "- 변경: $x_{ij}$를 Variable로 대신에 실제 연결된 Path만 고려하도록 변경(Variable 수 7x7=49개에서 8개로 감소)\n",
    "- Path 8개에 대해 각 Path의 사용 여부를 함수의 인자로 받기 → $x_{ij}$ 형태로 mapping 후 Constraints 적용"
   ]
  },
  {
   "cell_type": "code",
   "execution_count": 44,
   "id": "f3cfb3be",
   "metadata": {},
   "outputs": [],
   "source": [
    "node_count = 7\n",
    "path_count = len(paths)"
   ]
  },
  {
   "cell_type": "code",
   "execution_count": 45,
   "id": "23ec05b6",
   "metadata": {},
   "outputs": [
    {
     "data": {
      "text/plain": [
       "array([[  -1,   -1,   -1,   -1,   -1,   -1,   -1,   -1],\n",
       "       [  -1,   -1,  220, 1500,   -1,   -1,   -1,   -1],\n",
       "       [  -1,   -1,   -1,   -1,  650,  900,   -1,   -1],\n",
       "       [  -1,   -1,   -1,   -1,   -1,   -1,  500,   -1],\n",
       "       [  -1,   -1,   -1,   -1,   -1,   -1,   -1,  500],\n",
       "       [  -1,   -1,   -1,   -1,   -1,   -1,   -1,  400],\n",
       "       [  -1,   -1,   -1,   -1,   -1,   -1,   -1,  400],\n",
       "       [  -1,   -1,   -1,   -1,   -1,   -1,   -1,   -1]])"
      ]
     },
     "execution_count": 45,
     "metadata": {},
     "output_type": "execute_result"
    }
   ],
   "source": [
    "def create_distance_table(paths):\n",
    "    distance_table = np.array([ [ -1 for j in range(node_count + 1)] for i in range(node_count + 1) ])\n",
    "    for index, row in paths.iterrows():\n",
    "        distance_table[row['node_from'], row['node_to']] = row['distance']\n",
    "    return distance_table\n",
    "\n",
    "distance_table = create_distance_table(paths)\n",
    "distance_table"
   ]
  },
  {
   "cell_type": "code",
   "execution_count": 46,
   "id": "912b57d3",
   "metadata": {},
   "outputs": [
    {
     "data": {
      "text/plain": [
       "array([[0, 0, 0, 0, 0, 0, 0, 0],\n",
       "       [0, 0, 0, 1, 0, 0, 0, 0],\n",
       "       [0, 0, 0, 0, 0, 1, 0, 0],\n",
       "       [0, 0, 0, 0, 0, 0, 0, 0],\n",
       "       [0, 0, 0, 0, 0, 0, 0, 0],\n",
       "       [0, 0, 0, 0, 0, 0, 0, 0],\n",
       "       [0, 0, 0, 0, 0, 0, 0, 0],\n",
       "       [0, 0, 0, 0, 0, 0, 0, 0]])"
      ]
     },
     "execution_count": 46,
     "metadata": {},
     "output_type": "execute_result"
    }
   ],
   "source": [
    "def p_to_x(p):\n",
    "    # p[i]: i번째 path 사용 여부(0: 미사용, 1: 사용)\n",
    "    # x[i][j]: i → j 사용 여부(0: 미사용, 1: 사용)\n",
    "    x = np.array([ [ 0 for j in range(node_count + 1)] for i in range(node_count + 1) ])\n",
    "\n",
    "    for i, pv in enumerate(p):\n",
    "        if pv == 1:\n",
    "            node_from = paths.loc[i, 'node_from']\n",
    "            node_to = paths.loc[i, 'node_to']\n",
    "            x[node_from, node_to] = 1\n",
    "    return x\n",
    "            \n",
    "p_to_x([0,1,0,1,0,0,0,0])"
   ]
  },
  {
   "cell_type": "code",
   "execution_count": 47,
   "id": "b1f1673a",
   "metadata": {},
   "outputs": [
    {
     "data": {
      "text/plain": [
       "array([[   0,    0,    0,    0,    0,    0,    0,    0],\n",
       "       [   0,    0,    0, 1500,    0,    0,    0,    0],\n",
       "       [   0,    0,    0,    0,    0,  900,    0,    0],\n",
       "       [   0,    0,    0,    0,    0,    0,    0,    0],\n",
       "       [   0,    0,    0,    0,    0,    0,    0,    0],\n",
       "       [   0,    0,    0,    0,    0,    0,    0,    0],\n",
       "       [   0,    0,    0,    0,    0,    0,    0,    0],\n",
       "       [   0,    0,    0,    0,    0,    0,    0,    0]])"
      ]
     },
     "execution_count": 47,
     "metadata": {},
     "output_type": "execute_result"
    }
   ],
   "source": [
    "p_to_x([0,1,0,1,0,0,0,0]) * distance_table"
   ]
  },
  {
   "cell_type": "code",
   "execution_count": 48,
   "id": "fbc7ddff",
   "metadata": {},
   "outputs": [],
   "source": [
    "def f(p):\n",
    "    res = 0\n",
    "    penalty = 0\n",
    "    x = p_to_x(p)\n",
    "    \n",
    "    # penalty를 단순 np.inf로 주면 학습이 잘 안 됨. 원하는 조건에 가까울 수록 낮은 페널티 부과하도록 개선\n",
    "    for i in range(1, 1 + node_count):\n",
    "        if i == 1:\n",
    "            if np.sum(x[1, :]) != 1:\n",
    "                penalty += np.abs(np.sum(x[1, :]) - 1) * 1000000\n",
    "        elif i == 7:\n",
    "            if np.sum(x[:, 7]) != 1:\n",
    "                penalty += np.abs(np.sum(x[:, 7]) - 1) * 1000000\n",
    "        else:\n",
    "            if np.sum(x[:, i]) != np.sum(x[i, :]):\n",
    "                penalty += np.abs(np.sum(x[:, i]) - np.sum(x[i, :])) * 1000000\n",
    "    \n",
    "    total_distance = np.sum(x * distance_table)\n",
    "    \n",
    "    return total_distance + penalty"
   ]
  },
  {
   "cell_type": "code",
   "execution_count": 49,
   "id": "8ef98837",
   "metadata": {},
   "outputs": [
    {
     "data": {
      "text/plain": [
       "1520"
      ]
     },
     "execution_count": 49,
     "metadata": {},
     "output_type": "execute_result"
    }
   ],
   "source": [
    "# Test 1 (1 → 2 → 5 → 7)\n",
    "f([1, 0, 0, 1, 0, 1, 0, 0])"
   ]
  },
  {
   "cell_type": "code",
   "execution_count": 50,
   "id": "2a149669",
   "metadata": {},
   "outputs": [
    {
     "data": {
      "text/plain": [
       "2002000"
      ]
     },
     "execution_count": 50,
     "metadata": {},
     "output_type": "execute_result"
    }
   ],
   "source": [
    "# Test 2 (Not connected)\n",
    "f([0, 1, 0, 0, 0, 0, 1, 0])"
   ]
  },
  {
   "cell_type": "code",
   "execution_count": 51,
   "id": "152635f6",
   "metadata": {},
   "outputs": [
    {
     "data": {
      "text/plain": [
       "2400"
      ]
     },
     "execution_count": 51,
     "metadata": {},
     "output_type": "execute_result"
    }
   ],
   "source": [
    "# Test 3 (1 → 3 → 6 → 7)\n",
    "f([0, 1, 0, 0, 0, 0, 1, 1])"
   ]
  },
  {
   "cell_type": "code",
   "execution_count": 52,
   "id": "b8a75bea",
   "metadata": {},
   "outputs": [],
   "source": [
    "varbounds = np.array([[0, 1] for p in range(path_count)])"
   ]
  },
  {
   "cell_type": "code",
   "execution_count": 53,
   "id": "c18b53f2",
   "metadata": {},
   "outputs": [],
   "source": [
    "vartype = np.array([['int'] for p in range(path_count)])"
   ]
  },
  {
   "cell_type": "code",
   "execution_count": 54,
   "id": "adddf04c",
   "metadata": {},
   "outputs": [],
   "source": [
    "algorithm_param = {\n",
    "    'max_num_iteration': 500,\n",
    "    'population_size':100,\n",
    "    'mutation_probability':0.30,\n",
    "    'elit_ratio': 0.10,\n",
    "    'crossover_probability': 0.50,\n",
    "    'parents_portion': 0.30,\n",
    "    'crossover_type':'uniform',\n",
    "    'max_iteration_without_improv':100\n",
    "}"
   ]
  },
  {
   "cell_type": "code",
   "execution_count": 55,
   "id": "1cf4c9c3",
   "metadata": {},
   "outputs": [],
   "source": [
    "model = ga(function=f, dimension=path_count, variable_type_mixed=vartype, variable_boundaries=varbounds, algorithm_parameters=algorithm_param)"
   ]
  },
  {
   "cell_type": "code",
   "execution_count": 58,
   "id": "2344e24c",
   "metadata": {},
   "outputs": [
    {
     "name": "stdout",
     "output_type": "stream",
     "text": [
      " The best solution found:                                                                           \n",
      " [1. 0. 1. 0. 1. 0. 0. 0.]\n",
      "\n",
      " Objective function:\n",
      " 1370.0\n"
     ]
    },
    {
     "data": {
      "image/png": "[encoded data removed]",
      "text/plain": [
       "<Figure size 432x288 with 1 Axes>"
      ]
     },
     "metadata": {
      "needs_background": "light"
     },
     "output_type": "display_data"
    },
    {
     "name": "stdout",
     "output_type": "stream",
     "text": [
      "\n",
      "Warning: GA is terminated due to the maximum number of iterations without improvement was met!Wall time: 3.94 s\n"
     ]
    }
   ],
   "source": [
    "%%time\n",
    "model.run()"
   ]
  },
  {
   "cell_type": "code",
   "execution_count": null,
   "id": "0ff8477e",
   "metadata": {},
   "outputs": [],
   "source": []
  }
 ],
 "metadata": {
  "kernelspec": {
   "display_name": "Python 3 (ipykernel)",
   "language": "python",
   "name": "python3"
  },
  "language_info": {
   "codemirror_mode": {
    "name": "ipython",
    "version": 3
   },
   "file_extension": ".py",
   "mimetype": "text/x-python",
   "name": "python",
   "nbconvert_exporter": "python",
   "pygments_lexer": "ipython3",
   "version": "3.7.9"
  }
 },
 "nbformat": 4,
 "nbformat_minor": 5
}
