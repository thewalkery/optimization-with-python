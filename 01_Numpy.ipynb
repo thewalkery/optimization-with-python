{
 "cells": [
  {
   "cell_type": "code",
   "execution_count": 1,
   "id": "d2d8364e",
   "metadata": {},
   "outputs": [],
   "source": [
    "import numpy as np"
   ]
  },
  {
   "cell_type": "code",
   "execution_count": 2,
   "id": "6e4f6494",
   "metadata": {},
   "outputs": [],
   "source": [
    "ages = np.array([10, 15, 20, 18])"
   ]
  },
  {
   "cell_type": "code",
   "execution_count": 3,
   "id": "d496d682",
   "metadata": {},
   "outputs": [],
   "source": [
    "marks = np.array([9, 8, 5, 7])"
   ]
  },
  {
   "cell_type": "code",
   "execution_count": 4,
   "id": "87f7cc11",
   "metadata": {},
   "outputs": [
    {
     "name": "stdout",
     "output_type": "stream",
     "text": [
      "[9 5 7]\n"
     ]
    }
   ],
   "source": [
    "print(marks[ages%2==0])"
   ]
  },
  {
   "cell_type": "code",
   "execution_count": 5,
   "id": "9997f03b",
   "metadata": {},
   "outputs": [
    {
     "name": "stdout",
     "output_type": "stream",
     "text": [
      "10\n",
      "20\n",
      "15.75\n"
     ]
    }
   ],
   "source": [
    "print(np.min(ages))\n",
    "print(np.max(ages))\n",
    "print(np.mean(ages))"
   ]
  },
  {
   "cell_type": "code",
   "execution_count": 6,
   "id": "b8480895",
   "metadata": {},
   "outputs": [
    {
     "name": "stdout",
     "output_type": "stream",
     "text": [
      "12.5\n"
     ]
    }
   ],
   "source": [
    "print(np.mean(ages[marks>7]))"
   ]
  },
  {
   "cell_type": "code",
   "execution_count": 7,
   "id": "496cd068",
   "metadata": {},
   "outputs": [
    {
     "data": {
      "text/plain": [
       "0.5403023058681398"
      ]
     },
     "execution_count": 7,
     "metadata": {},
     "output_type": "execute_result"
    }
   ],
   "source": [
    "np.cos(1)"
   ]
  },
  {
   "cell_type": "code",
   "execution_count": 8,
   "id": "9a87e3d4",
   "metadata": {},
   "outputs": [],
   "source": [
    "x = np.inf"
   ]
  },
  {
   "cell_type": "code",
   "execution_count": 9,
   "id": "c21adad9",
   "metadata": {},
   "outputs": [
    {
     "name": "stdout",
     "output_type": "stream",
     "text": [
      "inf\n"
     ]
    }
   ],
   "source": [
    "print(x)"
   ]
  },
  {
   "cell_type": "code",
   "execution_count": null,
   "id": "12614797",
   "metadata": {},
   "outputs": [],
   "source": []
  }
 ],
 "metadata": {
  "kernelspec": {
   "display_name": "Python 3 (ipykernel)",
   "language": "python",
   "name": "python3"
  },
  "language_info": {
   "codemirror_mode": {
    "name": "ipython",
    "version": 3
   },
   "file_extension": ".py",
   "mimetype": "text/x-python",
   "name": "python",
   "nbconvert_exporter": "python",
   "pygments_lexer": "ipython3",
   "version": "3.7.9"
  }
 },
 "nbformat": 4,
 "nbformat_minor": 5
}
