{
 "cells": [
  {
   "cell_type": "code",
   "execution_count": 24,
   "id": "8a530a8b",
   "metadata": {},
   "outputs": [],
   "source": [
    "import pyomo.environ as pyo\n",
    "from pyomo.environ import *\n",
    "from pyomo.opt import SolverFactory\n",
    "\n",
    "model = pyo.ConcreteModel()"
   ]
  },
  {
   "cell_type": "code",
   "execution_count": 25,
   "id": "770c142e",
   "metadata": {},
   "outputs": [],
   "source": [
    "model.x = pyo.Var(bounds=(None, 3))\n",
    "model.y = pyo.Var(bounds=(0, None))"
   ]
  },
  {
   "cell_type": "code",
   "execution_count": 26,
   "id": "876f7fe8",
   "metadata": {},
   "outputs": [],
   "source": [
    "x, y = model.x, model.y"
   ]
  },
  {
   "cell_type": "code",
   "execution_count": 27,
   "id": "a022763f",
   "metadata": {},
   "outputs": [],
   "source": [
    "model.C1 = pyo.Constraint(expr= x+y<=8)"
   ]
  },
  {
   "cell_type": "code",
   "execution_count": 28,
   "id": "79039187",
   "metadata": {},
   "outputs": [],
   "source": [
    "model.C2 = pyo.Constraint(expr= 8*x+3*y>=-24)"
   ]
  },
  {
   "cell_type": "code",
   "execution_count": 29,
   "id": "3409b806",
   "metadata": {},
   "outputs": [],
   "source": [
    "model.C3 = pyo.Constraint(expr= -6*x+8*y<=48)"
   ]
  },
  {
   "cell_type": "code",
   "execution_count": 30,
   "id": "ea171705",
   "metadata": {},
   "outputs": [],
   "source": [
    "model.C4 = pyo.Constraint(expr= 3*x+5*y<=15)"
   ]
  },
  {
   "cell_type": "code",
   "execution_count": 31,
   "id": "d1e77d2a",
   "metadata": {},
   "outputs": [],
   "source": [
    "model.obj = pyo.Objective(expr= -4*x-2*y, sense=minimize)"
   ]
  },
  {
   "cell_type": "code",
   "execution_count": 32,
   "id": "e7e66dce",
   "metadata": {},
   "outputs": [],
   "source": [
    "# PATH 환경 변수 추가 안하고 직접 exe 경로 입력 가능\n",
    "opt = SolverFactory('cbc', executable='D:\\\\Solver-CBC\\\\win32-msvc9\\\\bin\\\\cbc.exe')"
   ]
  },
  {
   "cell_type": "code",
   "execution_count": 33,
   "id": "3f599cc3",
   "metadata": {},
   "outputs": [
    {
     "data": {
      "text/plain": [
       "{'Problem': [{'Name': 'unknown', 'Lower bound': -14.4, 'Upper bound': -14.4, 'Number of objectives': 1, 'Number of constraints': 5, 'Number of variables': 3, 'Number of nonzeros': 2, 'Sense': 'minimize'}], 'Solver': [{'Status': 'ok', 'User time': -1.0, 'System time': 0.0, 'Wallclock time': 0.0, 'Termination condition': 'optimal', 'Termination message': 'Model was solved to optimality (subject to tolerances), and an optimal solution is available.', 'Statistics': {'Branch and bound': {'Number of bounded subproblems': None, 'Number of created subproblems': None}, 'Black box': {'Number of iterations': 1}}, 'Error rc': 0, 'Time': 0.026488542556762695}], 'Solution': [OrderedDict([('number of solutions', 0), ('number of solutions displayed', 0)])]}"
      ]
     },
     "execution_count": 33,
     "metadata": {},
     "output_type": "execute_result"
    }
   ],
   "source": [
    "opt.solve(model)"
   ]
  },
  {
   "cell_type": "code",
   "execution_count": 34,
   "id": "6c207e15",
   "metadata": {},
   "outputs": [
    {
     "name": "stdout",
     "output_type": "stream",
     "text": [
      "2 Var Declarations\n",
      "    x : Size=1, Index=None\n",
      "        Key  : Lower : Value : Upper : Fixed : Stale : Domain\n",
      "        None :  None :   3.0 :     3 : False : False :  Reals\n",
      "    y : Size=1, Index=None\n",
      "        Key  : Lower : Value : Upper : Fixed : Stale : Domain\n",
      "        None :     0 :   1.2 :  None : False : False :  Reals\n",
      "\n",
      "1 Objective Declarations\n",
      "    obj : Size=1, Index=None, Active=True\n",
      "        Key  : Active : Sense    : Expression\n",
      "        None :   True : minimize : -4*x - 2*y\n",
      "\n",
      "4 Constraint Declarations\n",
      "    C1 : Size=1, Index=None, Active=True\n",
      "        Key  : Lower : Body  : Upper : Active\n",
      "        None :  -Inf : x + y :   8.0 :   True\n",
      "    C2 : Size=1, Index=None, Active=True\n",
      "        Key  : Lower : Body      : Upper : Active\n",
      "        None : -24.0 : 8*x + 3*y :  +Inf :   True\n",
      "    C3 : Size=1, Index=None, Active=True\n",
      "        Key  : Lower : Body       : Upper : Active\n",
      "        None :  -Inf : -6*x + 8*y :  48.0 :   True\n",
      "    C4 : Size=1, Index=None, Active=True\n",
      "        Key  : Lower : Body      : Upper : Active\n",
      "        None :  -Inf : 3*x + 5*y :  15.0 :   True\n",
      "\n",
      "7 Declarations: x y C1 C2 C3 C4 obj\n"
     ]
    }
   ],
   "source": [
    "model.pprint()"
   ]
  },
  {
   "cell_type": "code",
   "execution_count": 35,
   "id": "95926e3b",
   "metadata": {},
   "outputs": [
    {
     "name": "stdout",
     "output_type": "stream",
     "text": [
      "x= 3.0\n",
      "y= 1.2\n"
     ]
    }
   ],
   "source": [
    "print('x=', pyo.value(x))\n",
    "print('y=', pyo.value(y))"
   ]
  }
 ],
 "metadata": {
  "kernelspec": {
   "display_name": "Python 3 (ipykernel)",
   "language": "python",
   "name": "python3"
  },
  "language_info": {
   "codemirror_mode": {
    "name": "ipython",
    "version": 3
   },
   "file_extension": ".py",
   "mimetype": "text/x-python",
   "name": "python",
   "nbconvert_exporter": "python",
   "pygments_lexer": "ipython3",
   "version": "3.7.9"
  }
 },
 "nbformat": 4,
 "nbformat_minor": 5
}
