{
 "cells": [
  {
   "cell_type": "code",
   "execution_count": 1,
   "id": "21de7144",
   "metadata": {},
   "outputs": [],
   "source": [
    "import pyomo.environ as pyo\n",
    "from pyomo.environ import *\n",
    "from pyomo.opt import SolverFactory\n",
    "import pandas as pd"
   ]
  },
  {
   "cell_type": "code",
   "execution_count": 2,
   "id": "cac36d2a",
   "metadata": {},
   "outputs": [],
   "source": [
    "# inputs\n",
    "dataGen = pd.read_excel('10_Pyomo_Summations_Data.xlsx', sheet_name='gen')\n",
    "dataLoad = pd.read_excel('10_Pyomo_Summations_Data.xlsx', sheet_name='load')"
   ]
  },
  {
   "cell_type": "code",
   "execution_count": 3,
   "id": "89bc16a4",
   "metadata": {},
   "outputs": [
    {
     "data": {
      "text/html": [
       "<div>\n",
       "<style scoped>\n",
       "    .dataframe tbody tr th:only-of-type {\n",
       "        vertical-align: middle;\n",
       "    }\n",
       "\n",
       "    .dataframe tbody tr th {\n",
       "        vertical-align: top;\n",
       "    }\n",
       "\n",
       "    .dataframe thead th {\n",
       "        text-align: right;\n",
       "    }\n",
       "</style>\n",
       "<table border=\"1\" class=\"dataframe\">\n",
       "  <thead>\n",
       "    <tr style=\"text-align: right;\">\n",
       "      <th></th>\n",
       "      <th>id</th>\n",
       "      <th>limit</th>\n",
       "      <th>cost</th>\n",
       "    </tr>\n",
       "  </thead>\n",
       "  <tbody>\n",
       "    <tr>\n",
       "      <th>0</th>\n",
       "      <td>0</td>\n",
       "      <td>20</td>\n",
       "      <td>0.10</td>\n",
       "    </tr>\n",
       "    <tr>\n",
       "      <th>1</th>\n",
       "      <td>1</td>\n",
       "      <td>10</td>\n",
       "      <td>0.05</td>\n",
       "    </tr>\n",
       "    <tr>\n",
       "      <th>2</th>\n",
       "      <td>2</td>\n",
       "      <td>40</td>\n",
       "      <td>0.30</td>\n",
       "    </tr>\n",
       "    <tr>\n",
       "      <th>3</th>\n",
       "      <td>3</td>\n",
       "      <td>50</td>\n",
       "      <td>0.40</td>\n",
       "    </tr>\n",
       "    <tr>\n",
       "      <th>4</th>\n",
       "      <td>4</td>\n",
       "      <td>5</td>\n",
       "      <td>0.01</td>\n",
       "    </tr>\n",
       "  </tbody>\n",
       "</table>\n",
       "</div>"
      ],
      "text/plain": [
       "   id  limit  cost\n",
       "0   0     20  0.10\n",
       "1   1     10  0.05\n",
       "2   2     40  0.30\n",
       "3   3     50  0.40\n",
       "4   4      5  0.01"
      ]
     },
     "execution_count": 3,
     "metadata": {},
     "output_type": "execute_result"
    }
   ],
   "source": [
    "dataGen"
   ]
  },
  {
   "cell_type": "code",
   "execution_count": 4,
   "id": "481f803f",
   "metadata": {},
   "outputs": [
    {
     "data": {
      "text/html": [
       "<div>\n",
       "<style scoped>\n",
       "    .dataframe tbody tr th:only-of-type {\n",
       "        vertical-align: middle;\n",
       "    }\n",
       "\n",
       "    .dataframe tbody tr th {\n",
       "        vertical-align: top;\n",
       "    }\n",
       "\n",
       "    .dataframe thead th {\n",
       "        text-align: right;\n",
       "    }\n",
       "</style>\n",
       "<table border=\"1\" class=\"dataframe\">\n",
       "  <thead>\n",
       "    <tr style=\"text-align: right;\">\n",
       "      <th></th>\n",
       "      <th>id</th>\n",
       "      <th>value</th>\n",
       "    </tr>\n",
       "  </thead>\n",
       "  <tbody>\n",
       "    <tr>\n",
       "      <th>0</th>\n",
       "      <td>0</td>\n",
       "      <td>50</td>\n",
       "    </tr>\n",
       "    <tr>\n",
       "      <th>1</th>\n",
       "      <td>1</td>\n",
       "      <td>20</td>\n",
       "    </tr>\n",
       "    <tr>\n",
       "      <th>2</th>\n",
       "      <td>2</td>\n",
       "      <td>30</td>\n",
       "    </tr>\n",
       "  </tbody>\n",
       "</table>\n",
       "</div>"
      ],
      "text/plain": [
       "   id  value\n",
       "0   0     50\n",
       "1   1     20\n",
       "2   2     30"
      ]
     },
     "execution_count": 4,
     "metadata": {},
     "output_type": "execute_result"
    }
   ],
   "source": [
    "dataLoad"
   ]
  },
  {
   "cell_type": "code",
   "execution_count": 5,
   "id": "c23a13de",
   "metadata": {},
   "outputs": [],
   "source": [
    "Ng = len(dataGen)"
   ]
  },
  {
   "cell_type": "code",
   "execution_count": 6,
   "id": "12468ddd",
   "metadata": {},
   "outputs": [],
   "source": [
    "model = pyo.ConcreteModel()\n",
    "\n",
    "model.Pg = pyo.Var(range(Ng), bounds=(0,None)) # 5개 Var 생성(Ng=5)\n",
    "#참고. 아래 Command는 5x3 Dimension의 Var 생성 가능하다.\n",
    "#model.Pg = pyo.Var(range(Ng), range(3), bounds=(0,None))"
   ]
  },
  {
   "cell_type": "code",
   "execution_count": 7,
   "id": "0977a3f4",
   "metadata": {},
   "outputs": [
    {
     "name": "stdout",
     "output_type": "stream",
     "text": [
      "Pg : Size=5, Index=Pg_index\n",
      "    Key : Lower : Value : Upper : Fixed : Stale : Domain\n",
      "      0 :     0 :  None :  None : False :  True :  Reals\n",
      "      1 :     0 :  None :  None : False :  True :  Reals\n",
      "      2 :     0 :  None :  None : False :  True :  Reals\n",
      "      3 :     0 :  None :  None : False :  True :  Reals\n",
      "      4 :     0 :  None :  None : False :  True :  Reals\n"
     ]
    }
   ],
   "source": [
    "model.Pg.pprint()"
   ]
  },
  {
   "cell_type": "code",
   "execution_count": 8,
   "id": "04d4b256",
   "metadata": {},
   "outputs": [],
   "source": [
    "Pg = model.Pg"
   ]
  },
  {
   "cell_type": "code",
   "execution_count": 9,
   "id": "8eb435b4",
   "metadata": {},
   "outputs": [
    {
     "data": {
      "text/plain": [
       "[<pyomo.core.base.var._GeneralVarData at 0x1a5e626b898>,\n",
       " <pyomo.core.base.var._GeneralVarData at 0x1a5e626b748>,\n",
       " <pyomo.core.base.var._GeneralVarData at 0x1a5e626b3c8>,\n",
       " <pyomo.core.base.var._GeneralVarData at 0x1a5e626b2e8>,\n",
       " <pyomo.core.base.var._GeneralVarData at 0x1a5e626b048>]"
      ]
     },
     "execution_count": 9,
     "metadata": {},
     "output_type": "execute_result"
    }
   ],
   "source": [
    "[Pg[g] for g in dataGen['id']]"
   ]
  },
  {
   "cell_type": "code",
   "execution_count": 10,
   "id": "d71b3be7",
   "metadata": {},
   "outputs": [
    {
     "name": "stdout",
     "output_type": "stream",
     "text": [
      "Pg[0] + Pg[1] + Pg[2] + Pg[3] + Pg[4]\n"
     ]
    }
   ],
   "source": [
    "print(sum([Pg[g] for g in dataGen['id']]))"
   ]
  },
  {
   "cell_type": "code",
   "execution_count": 11,
   "id": "eacc7335",
   "metadata": {},
   "outputs": [],
   "source": [
    "pg_sum = sum([Pg[g] for g in dataGen['id']])"
   ]
  },
  {
   "cell_type": "code",
   "execution_count": 12,
   "id": "1bd17282",
   "metadata": {},
   "outputs": [],
   "source": [
    "# dataLoad['value']는 최적화 Variable이 아니므로 그냥 쓸 수 있음\n",
    "model.balance = pyo.Constraint(expr = pg_sum == sum(dataLoad['value']))"
   ]
  },
  {
   "cell_type": "code",
   "execution_count": 13,
   "id": "22b9d8c4",
   "metadata": {},
   "outputs": [],
   "source": [
    "model.cond = pyo.Constraint(expr = Pg[0] + Pg[3] >= dataLoad['value'][0])"
   ]
  },
  {
   "cell_type": "code",
   "execution_count": 15,
   "id": "05e1e692",
   "metadata": {},
   "outputs": [],
   "source": [
    "model.limits = pyo.ConstraintList()\n",
    "for g in dataGen['id']:\n",
    "    model.limits.add(expr = Pg[g] <= dataGen.limit[g])"
   ]
  },
  {
   "cell_type": "code",
   "execution_count": 19,
   "id": "9cafa618",
   "metadata": {},
   "outputs": [],
   "source": [
    "# objFcn\n",
    "model.obj = pyo.Objective(expr = sum([Pg[g]*dataGen['cost'][g] for g in dataGen['id']]))"
   ]
  },
  {
   "cell_type": "code",
   "execution_count": 20,
   "id": "2ec09a6f",
   "metadata": {},
   "outputs": [
    {
     "name": "stdout",
     "output_type": "stream",
     "text": [
      "2 Set Declarations\n",
      "    Pg_index : Size=1, Index=None, Ordered=Insertion\n",
      "        Key  : Dimen : Domain : Size : Members\n",
      "        None :     1 :    Any :    5 : {0, 1, 2, 3, 4}\n",
      "    limits_index : Size=1, Index=None, Ordered=Insertion\n",
      "        Key  : Dimen : Domain : Size : Members\n",
      "        None :     1 :    Any :    5 : {1, 2, 3, 4, 5}\n",
      "\n",
      "1 Var Declarations\n",
      "    Pg : Size=5, Index=Pg_index\n",
      "        Key : Lower : Value : Upper : Fixed : Stale : Domain\n",
      "          0 :     0 :  None :  None : False :  True :  Reals\n",
      "          1 :     0 :  None :  None : False :  True :  Reals\n",
      "          2 :     0 :  None :  None : False :  True :  Reals\n",
      "          3 :     0 :  None :  None : False :  True :  Reals\n",
      "          4 :     0 :  None :  None : False :  True :  Reals\n",
      "\n",
      "1 Objective Declarations\n",
      "    obj : Size=1, Index=None, Active=True\n",
      "        Key  : Active : Sense    : Expression\n",
      "        None :   True : minimize : 0.1*Pg[0] + 0.05*Pg[1] + 0.3*Pg[2] + 0.4*Pg[3] + 0.01*Pg[4]\n",
      "\n",
      "3 Constraint Declarations\n",
      "    balance : Size=1, Index=None, Active=True\n",
      "        Key  : Lower : Body                                  : Upper : Active\n",
      "        None : 100.0 : Pg[0] + Pg[1] + Pg[2] + Pg[3] + Pg[4] : 100.0 :   True\n",
      "    cond : Size=1, Index=None, Active=True\n",
      "        Key  : Lower : Body          : Upper : Active\n",
      "        None :  50.0 : Pg[0] + Pg[3] :  +Inf :   True\n",
      "    limits : Size=5, Index=limits_index, Active=True\n",
      "        Key : Lower : Body  : Upper : Active\n",
      "          1 :  -Inf : Pg[0] :  20.0 :   True\n",
      "          2 :  -Inf : Pg[1] :  10.0 :   True\n",
      "          3 :  -Inf : Pg[2] :  40.0 :   True\n",
      "          4 :  -Inf : Pg[3] :  50.0 :   True\n",
      "          5 :  -Inf : Pg[4] :   5.0 :   True\n",
      "\n",
      "7 Declarations: Pg_index Pg balance cond limits_index limits obj\n"
     ]
    }
   ],
   "source": [
    "model.pprint()"
   ]
  },
  {
   "cell_type": "code",
   "execution_count": 25,
   "id": "f7ef7b5a",
   "metadata": {},
   "outputs": [],
   "source": [
    "opt = SolverFactory('cbc', executable='D:\\\\Solver-CBC\\\\win32-msvc9\\\\bin\\\\cbc.exe')\n",
    "results = opt.solve(model)"
   ]
  },
  {
   "cell_type": "code",
   "execution_count": 27,
   "id": "60d178b4",
   "metadata": {},
   "outputs": [],
   "source": [
    "dataGen['Pg'] = [pyo.value(Pg[g]) for g in dataGen['id']]"
   ]
  },
  {
   "cell_type": "code",
   "execution_count": 28,
   "id": "1fd33bde",
   "metadata": {},
   "outputs": [
    {
     "data": {
      "text/html": [
       "<div>\n",
       "<style scoped>\n",
       "    .dataframe tbody tr th:only-of-type {\n",
       "        vertical-align: middle;\n",
       "    }\n",
       "\n",
       "    .dataframe tbody tr th {\n",
       "        vertical-align: top;\n",
       "    }\n",
       "\n",
       "    .dataframe thead th {\n",
       "        text-align: right;\n",
       "    }\n",
       "</style>\n",
       "<table border=\"1\" class=\"dataframe\">\n",
       "  <thead>\n",
       "    <tr style=\"text-align: right;\">\n",
       "      <th></th>\n",
       "      <th>id</th>\n",
       "      <th>limit</th>\n",
       "      <th>cost</th>\n",
       "      <th>Pg</th>\n",
       "    </tr>\n",
       "  </thead>\n",
       "  <tbody>\n",
       "    <tr>\n",
       "      <th>0</th>\n",
       "      <td>0</td>\n",
       "      <td>20</td>\n",
       "      <td>0.10</td>\n",
       "      <td>20.0</td>\n",
       "    </tr>\n",
       "    <tr>\n",
       "      <th>1</th>\n",
       "      <td>1</td>\n",
       "      <td>10</td>\n",
       "      <td>0.05</td>\n",
       "      <td>10.0</td>\n",
       "    </tr>\n",
       "    <tr>\n",
       "      <th>2</th>\n",
       "      <td>2</td>\n",
       "      <td>40</td>\n",
       "      <td>0.30</td>\n",
       "      <td>35.0</td>\n",
       "    </tr>\n",
       "    <tr>\n",
       "      <th>3</th>\n",
       "      <td>3</td>\n",
       "      <td>50</td>\n",
       "      <td>0.40</td>\n",
       "      <td>30.0</td>\n",
       "    </tr>\n",
       "    <tr>\n",
       "      <th>4</th>\n",
       "      <td>4</td>\n",
       "      <td>5</td>\n",
       "      <td>0.01</td>\n",
       "      <td>5.0</td>\n",
       "    </tr>\n",
       "  </tbody>\n",
       "</table>\n",
       "</div>"
      ],
      "text/plain": [
       "   id  limit  cost    Pg\n",
       "0   0     20  0.10  20.0\n",
       "1   1     10  0.05  10.0\n",
       "2   2     40  0.30  35.0\n",
       "3   3     50  0.40  30.0\n",
       "4   4      5  0.01   5.0"
      ]
     },
     "execution_count": 28,
     "metadata": {},
     "output_type": "execute_result"
    }
   ],
   "source": [
    "dataGen"
   ]
  },
  {
   "cell_type": "code",
   "execution_count": null,
   "id": "45ae0169",
   "metadata": {},
   "outputs": [],
   "source": []
  }
 ],
 "metadata": {
  "kernelspec": {
   "display_name": "Python 3 (ipykernel)",
   "language": "python",
   "name": "python3"
  },
  "language_info": {
   "codemirror_mode": {
    "name": "ipython",
    "version": 3
   },
   "file_extension": ".py",
   "mimetype": "text/x-python",
   "name": "python",
   "nbconvert_exporter": "python",
   "pygments_lexer": "ipython3",
   "version": "3.7.9"
  }
 },
 "nbformat": 4,
 "nbformat_minor": 5
}
