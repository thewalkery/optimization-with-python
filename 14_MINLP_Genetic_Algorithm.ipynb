{
 "cells": [
  {
   "cell_type": "code",
   "execution_count": 1,
   "id": "79d3adad",
   "metadata": {},
   "outputs": [
    {
     "name": "stdout",
     "output_type": "stream",
     "text": [
      "Collecting geneticalgorithm\n",
      "  Downloading geneticalgorithm-1.0.2-py3-none-any.whl (16 kB)\n",
      "Collecting func-timeout\n",
      "  Downloading func_timeout-4.3.5.tar.gz (44 kB)\n",
      "     ---------------------------------------- 44.3/44.3 KB 2.3 MB/s eta 0:00:00\n",
      "  Preparing metadata (setup.py): started\n",
      "  Preparing metadata (setup.py): finished with status 'done'\n",
      "Requirement already satisfied: numpy in c:\\users\\thexl\\onedrive\\desktop\\pythonworkspace\\optimization-with-python\\.venv\\lib\\site-packages (from geneticalgorithm) (1.21.5)\n",
      "Using legacy 'setup.py install' for func-timeout, since package 'wheel' is not installed.\n",
      "Installing collected packages: func-timeout, geneticalgorithm\n",
      "  Running setup.py install for func-timeout: started\n",
      "  Running setup.py install for func-timeout: finished with status 'done'\n",
      "Successfully installed func-timeout-4.3.5 geneticalgorithm-1.0.2\n"
     ]
    }
   ],
   "source": [
    "!pip install geneticalgorithm"
   ]
  },
  {
   "cell_type": "code",
   "execution_count": 22,
   "id": "234b07e9",
   "metadata": {},
   "outputs": [],
   "source": [
    "import numpy as np\n",
    "from geneticalgorithm import geneticalgorithm as ga"
   ]
  },
  {
   "cell_type": "code",
   "execution_count": 23,
   "id": "fbc7ddff",
   "metadata": {},
   "outputs": [],
   "source": [
    "def f(x):\n",
    "    # Minimize 기준이므로 마이너스(-) 붙임\n",
    "    pen = 0 # Penalty\n",
    "    if not -x[0]+2*x[1]*x[0] <= 8:\n",
    "        # 위 Constraint를 만족하지 못하면 penalty\n",
    "        pen = np.inf\n",
    "    if not 2*x[0]+x[1] <= 14:\n",
    "        pen = np.inf\n",
    "    if not 2*x[0]-x[1] <= 10:\n",
    "        pen = np.inf\n",
    "    return -(x[0]+x[0]*x[1]) + pen"
   ]
  },
  {
   "cell_type": "code",
   "execution_count": 24,
   "id": "b8a75bea",
   "metadata": {},
   "outputs": [],
   "source": [
    "varbounds = np.array([[0, 10], [0, 10]])"
   ]
  },
  {
   "cell_type": "code",
   "execution_count": 25,
   "id": "c18b53f2",
   "metadata": {},
   "outputs": [],
   "source": [
    "vartype = np.array([['int'], ['real']])"
   ]
  },
  {
   "cell_type": "code",
   "execution_count": 26,
   "id": "1cf4c9c3",
   "metadata": {},
   "outputs": [],
   "source": [
    "model = ga(function=f, dimension=2, variable_type_mixed=vartype, variable_boundaries=varbounds)"
   ]
  },
  {
   "cell_type": "code",
   "execution_count": 27,
   "id": "2344e24c",
   "metadata": {},
   "outputs": [
    {
     "name": "stdout",
     "output_type": "stream",
     "text": [
      "||________________________________________________ 4.2% GA is running..."
     ]
    },
    {
     "name": "stderr",
     "output_type": "stream",
     "text": [
      "c:\\users\\thexl\\onedrive\\desktop\\pythonworkspace\\optimization-with-python\\.venv\\lib\\site-packages\\geneticalgorithm\\geneticalgorithm.py:353: RuntimeWarning: invalid value encountered in subtract\n",
      "  normobj=maxnorm-normobj+1\n"
     ]
    },
    {
     "name": "stdout",
     "output_type": "stream",
     "text": [
      " The best solution found:                                                                           \n",
      " [5.         1.29950421]\n",
      "\n",
      " Objective function:\n",
      " -11.49752103823522\n"
     ]
    },
    {
     "data": {
      "image/png": "[encoded data removed]",
      "text/plain": [
       "<Figure size 432x288 with 1 Axes>"
      ]
     },
     "metadata": {
      "needs_background": "light"
     },
     "output_type": "display_data"
    }
   ],
   "source": [
    "model.run()"
   ]
  },
  {
   "cell_type": "code",
   "execution_count": null,
   "id": "56f4019a",
   "metadata": {},
   "outputs": [],
   "source": []
  }
 ],
 "metadata": {
  "kernelspec": {
   "display_name": "Python 3 (ipykernel)",
   "language": "python",
   "name": "python3"
  },
  "language_info": {
   "codemirror_mode": {
    "name": "ipython",
    "version": 3
   },
   "file_extension": ".py",
   "mimetype": "text/x-python",
   "name": "python",
   "nbconvert_exporter": "python",
   "pygments_lexer": "ipython3",
   "version": "3.7.9"
  }
 },
 "nbformat": 4,
 "nbformat_minor": 5
}
