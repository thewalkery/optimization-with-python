{
 "cells": [
  {
   "cell_type": "code",
   "execution_count": 1,
   "id": "d821ee2f",
   "metadata": {},
   "outputs": [
    {
     "name": "stdout",
     "output_type": "stream",
     "text": [
      "Collecting cython\n",
      "  Downloading Cython-0.29.28-py2.py3-none-any.whl (983 kB)\n",
      "     -------------------------------------- 983.8/983.8 KB 3.9 MB/s eta 0:00:00\n",
      "Installing collected packages: cython\n",
      "Successfully installed cython-0.29.28\n"
     ]
    }
   ],
   "source": [
    "!pip install cython"
   ]
  },
  {
   "cell_type": "code",
   "execution_count": 2,
   "id": "d8cf19d4",
   "metadata": {},
   "outputs": [
    {
     "name": "stdout",
     "output_type": "stream",
     "text": [
      "Collecting pulp\n",
      "  Downloading PuLP-2.6.0-py3-none-any.whl (14.2 MB)\n",
      "     ---------------------------------------- 14.2/14.2 MB 9.4 MB/s eta 0:00:00\n",
      "Installing collected packages: pulp\n",
      "Successfully installed pulp-2.6.0\n"
     ]
    }
   ],
   "source": [
    "!pip install pulp"
   ]
  },
  {
   "cell_type": "code",
   "execution_count": 3,
   "id": "ae24baf8",
   "metadata": {},
   "outputs": [],
   "source": [
    "import pulp as pl"
   ]
  },
  {
   "cell_type": "code",
   "execution_count": 4,
   "id": "5316abac",
   "metadata": {},
   "outputs": [],
   "source": [
    "model = pl.LpProblem('Ex', pl.LpMaximize)"
   ]
  },
  {
   "cell_type": "code",
   "execution_count": 6,
   "id": "311bc087",
   "metadata": {},
   "outputs": [],
   "source": [
    "x = pl.LpVariable('x', 0, 10)\n",
    "y = pl.LpVariable('y', 0, 10)"
   ]
  },
  {
   "cell_type": "code",
   "execution_count": 7,
   "id": "bc565b38",
   "metadata": {},
   "outputs": [],
   "source": [
    "model += -x+2*y<=8"
   ]
  },
  {
   "cell_type": "code",
   "execution_count": 8,
   "id": "fd3edf9a",
   "metadata": {},
   "outputs": [],
   "source": [
    "model += 2*x+y<=14"
   ]
  },
  {
   "cell_type": "code",
   "execution_count": 9,
   "id": "8f08b0f1",
   "metadata": {},
   "outputs": [],
   "source": [
    "model += 2*x-y<=10"
   ]
  },
  {
   "cell_type": "code",
   "execution_count": 10,
   "id": "acfbeb33",
   "metadata": {},
   "outputs": [],
   "source": [
    "model += x+y"
   ]
  },
  {
   "cell_type": "code",
   "execution_count": 11,
   "id": "c32a0689",
   "metadata": {},
   "outputs": [],
   "source": [
    "status = model.solve()"
   ]
  },
  {
   "cell_type": "code",
   "execution_count": 12,
   "id": "ad49676a",
   "metadata": {},
   "outputs": [],
   "source": [
    "x_value = pl.value(x)"
   ]
  },
  {
   "cell_type": "code",
   "execution_count": 13,
   "id": "48f4ee54",
   "metadata": {},
   "outputs": [],
   "source": [
    "y_value = pl.value(y)"
   ]
  },
  {
   "cell_type": "code",
   "execution_count": 14,
   "id": "1e8a9f1d",
   "metadata": {},
   "outputs": [
    {
     "name": "stdout",
     "output_type": "stream",
     "text": [
      "x= 4.0\n",
      "y= 6.0\n"
     ]
    }
   ],
   "source": [
    "print('x=', x_value)\n",
    "print('y=', y_value)"
   ]
  },
  {
   "cell_type": "code",
   "execution_count": null,
   "id": "d9a43cce",
   "metadata": {},
   "outputs": [],
   "source": []
  }
 ],
 "metadata": {
  "kernelspec": {
   "display_name": "Python 3 (ipykernel)",
   "language": "python",
   "name": "python3"
  },
  "language_info": {
   "codemirror_mode": {
    "name": "ipython",
    "version": 3
   },
   "file_extension": ".py",
   "mimetype": "text/x-python",
   "name": "python",
   "nbconvert_exporter": "python",
   "pygments_lexer": "ipython3",
   "version": "3.7.9"
  }
 },
 "nbformat": 4,
 "nbformat_minor": 5
}
